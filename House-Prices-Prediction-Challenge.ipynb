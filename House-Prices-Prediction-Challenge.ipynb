{
  "cells": [
    {
      "metadata": {
        "_uuid": "b6269c0e8f417f82daf093dda8fa0da6d2c57d86",
        "_cell_guid": "e81ee64d-e474-4662-9036-ce23df615199"
      },
      "cell_type": "markdown",
      "source": "# Introduction\n**This will be your workspace for Kaggle's Machine Learning education track.**\n\nYou will build and continually improve a model to predict housing prices as you work through each tutorial.  Fork this notebook and write your code in it.\n\nThe data from the tutorial, the Melbourne data, is not available in this workspace.  You will need to translate the concepts to work with the data in this notebook, the Iowa data.\n\nCome to the [Learn Discussion](https://www.kaggle.com/learn-forum) forum for any questions or comments. \n\n# Write Your Code Below\n\n"
    },
    {
      "metadata": {
        "_uuid": "1c728098629e1301643443b1341556a15c089b2b",
        "collapsed": true,
        "_cell_guid": "86b26423-563a-4fa1-a595-89e25ff93089",
        "trusted": false
      },
      "cell_type": "code",
      "source": "import pandas as pd\n\nmain_file_path = '../input/train.csv'\ndata = pd.read_csv(main_file_path)\nprint(data.columns)",
      "execution_count": null,
      "outputs": []
    },
    {
      "metadata": {
        "_uuid": "917b00f0591ebde54faa9b249cac64e0ea33fb03",
        "collapsed": true,
        "_cell_guid": "e7ef4f54-d0be-424c-8092-338cb750cdb7",
        "trusted": false
      },
      "cell_type": "code",
      "source": "data.drop(columns = ['Condition2','LandContour','Street','Alley','Utilities','LandSlope','RoofMatl','ExterCond','BsmtCond','Heating','CentralAir','LowQualFinSF','BsmtHalfBath','KitchenAbvGr','Functional','GarageQual','GarageCond','3SsnPorch','PoolArea','PoolQC','Fence','MiscFeature','MiscVal'])\nprint()",
      "execution_count": null,
      "outputs": []
    },
    {
      "metadata": {
        "_uuid": "e7435765e3cf19f51bb00b22484a5a8c5f0843c9",
        "collapsed": true,
        "_cell_guid": "fc73f204-a463-4896-9db9-74d12ab6c070",
        "trusted": false
      },
      "cell_type": "code",
      "source": "from sklearn.metrics import mean_absolute_error as MAE \nprint()",
      "execution_count": null,
      "outputs": []
    },
    {
      "metadata": {
        "_uuid": "40b0502466e7fb3df643acced4b751c4bbfea222",
        "collapsed": true,
        "_cell_guid": "635b5100-44b3-4ead-b310-4a6f3f125314",
        "trusted": false
      },
      "cell_type": "code",
      "source": "from sklearn.model_selection import train_test_split as tts\nimport pandas as pd\nX = data[['MSSubClass',  'LotFrontage', 'LotArea', 'OverallQual', 'OverallCond', 'YearBuilt', 'YearRemodAdd','MasVnrArea', 'BsmtFinSF1', 'BsmtFinSF2', 'BsmtUnfSF', 'TotalBsmtSF', '1stFlrSF', '2ndFlrSF', 'GrLivArea', 'BsmtFullBath', 'FullBath','HalfBath', 'BedroomAbvGr','TotRmsAbvGrd',  'Fireplaces','GarageYrBlt',  'GarageCars', 'GarageArea','WoodDeckSF', 'OpenPorchSF','EnclosedPorch','ScreenPorch', 'MoSold', 'YrSold']]\n#train_x , val_x , train_y , val_y = tts(X,data[['SalePrice']])",
      "execution_count": null,
      "outputs": []
    },
    {
      "metadata": {
        "_uuid": "34561a24a6cda6092173d065c490cd8649452c18",
        "collapsed": true,
        "_cell_guid": "9bd12beb-d577-4e4b-8eb0-cecdeaa8cee7",
        "trusted": false
      },
      "cell_type": "code",
      "source": "from sklearn.ensemble import RandomForestRegressor",
      "execution_count": null,
      "outputs": []
    },
    {
      "metadata": {
        "_uuid": "031e77485951a3656d695285155959947fd27387",
        "collapsed": true,
        "_cell_guid": "378be1f6-505d-4485-85a3-98410315414a",
        "trusted": false
      },
      "cell_type": "code",
      "source": "test = pd.read_csv('../input/test.csv')\nX = pd.get_dummies(X)\ntest = pd.get_dummies(test)\nfrom sklearn.preprocessing import Imputer\nimp = Imputer()\nprint(X.columns)\nprint(test.columns)\nprint(\"ISK BAAD\")\ntest1 = test[['MSSubClass',  'LotFrontage', 'LotArea', 'OverallQual', 'OverallCond', 'YearBuilt', 'YearRemodAdd','MasVnrArea', 'BsmtFinSF1', 'BsmtFinSF2', 'BsmtUnfSF', 'TotalBsmtSF', '1stFlrSF', '2ndFlrSF', 'GrLivArea', 'BsmtFullBath', 'FullBath','HalfBath', 'BedroomAbvGr','TotRmsAbvGrd',  'Fireplaces','GarageYrBlt',  'GarageCars', 'GarageArea','WoodDeckSF', 'OpenPorchSF','EnclosedPorch','ScreenPorch', 'MoSold', 'YrSold']]\nprint(test1.columns)\nX = imp.fit_transform(X)\ntest1 = imp.transform(test1)",
      "execution_count": null,
      "outputs": []
    },
    {
      "metadata": {
        "_uuid": "36d74ec3212289a27a813d85259125378227e668",
        "collapsed": true,
        "_cell_guid": "b2f78b82-ce2f-400b-b327-6d51040da4f9",
        "trusted": false
      },
      "cell_type": "code",
      "source": "y = data[['SalePrice']]\nfrom xgboost import XGBRegressor\nfrom sklearn.ensemble import RandomForestRegressor\nrnd = XGBRegressor()\nrnd.fit(X,y.values.ravel())\npred1 = rnd.predict(test1)\nrnd = RandomForestRegressor(2000)\nrnd.fit(X,y.values.ravel())\npred2 = rnd.predict(test1)\npred = 0.6*pred1 + 0.4*pred\nmy_submission = pd.DataFrame({\"Id\": test.Id , \"SalePrice\": pred})",
      "execution_count": null,
      "outputs": []
    },
    {
      "metadata": {
        "_uuid": "efd96148127c6f31915dc898d9a8c14b77890e02",
        "collapsed": true,
        "_cell_guid": "06634237-5900-482e-87eb-715bd7652f2c",
        "trusted": false
      },
      "cell_type": "code",
      "source": "my_submission.to_csv('submission.csv',index = False)",
      "execution_count": null,
      "outputs": []
    },
    {
      "metadata": {
        "_uuid": "3df8fc3f61e1424dfd593d45d6eca2c019d95201",
        "collapsed": true,
        "_cell_guid": "74c3a18e-882e-4f08-8d82-167eb34e66d9",
        "trusted": false
      },
      "cell_type": "code",
      "source": "",
      "execution_count": null,
      "outputs": []
    },
    {
      "metadata": {
        "_uuid": "20480f333f1b546dbb47262ce67a331435e2d092",
        "collapsed": true,
        "_cell_guid": "265dd504-1acf-4c08-9455-394e987178f4",
        "trusted": false
      },
      "cell_type": "code",
      "source": "",
      "execution_count": null,
      "outputs": []
    },
    {
      "metadata": {
        "_uuid": "64ae405f008135fd1c2b462ab60306a411af055d",
        "collapsed": true,
        "_cell_guid": "5fca0b35-3b58-4437-9a34-cfa58b10e94a",
        "trusted": false
      },
      "cell_type": "code",
      "source": "",
      "execution_count": null,
      "outputs": []
    },
    {
      "metadata": {
        "_uuid": "378f6f4c59e308ebb153fcfcfb821e86cd718e8a",
        "collapsed": true,
        "_cell_guid": "1ddfb9f9-2adf-4f12-979b-17de67d026f4",
        "trusted": false
      },
      "cell_type": "code",
      "source": "",
      "execution_count": null,
      "outputs": []
    },
    {
      "metadata": {
        "_uuid": "54bbec31587884e2a261d956bda851c5a49138f9",
        "collapsed": true,
        "_cell_guid": "ce211a6c-7691-48a0-b0c0-15b9fe9c46c7",
        "trusted": false
      },
      "cell_type": "code",
      "source": "",
      "execution_count": null,
      "outputs": []
    },
    {
      "metadata": {
        "_uuid": "1c3979b5a6c7b8a89517f6b457f82b12813a7833",
        "collapsed": true,
        "_cell_guid": "339f6cfd-6896-4cba-875d-d6df117056b1",
        "trusted": false
      },
      "cell_type": "code",
      "source": "",
      "execution_count": null,
      "outputs": []
    },
    {
      "metadata": {
        "_uuid": "dda8e314c005f2030a77e9a4f13c18587088a92d",
        "collapsed": true,
        "_cell_guid": "a7d4233e-6903-4ef0-8dce-1b05e2f01198",
        "trusted": false
      },
      "cell_type": "code",
      "source": "",
      "execution_count": null,
      "outputs": []
    },
    {
      "metadata": {
        "_uuid": "167b9407d9f6bf9ec2716e3851dbfb58e9664ef7",
        "collapsed": true,
        "_cell_guid": "48654c40-c4a3-4926-be8f-b0419b81c986",
        "trusted": false
      },
      "cell_type": "code",
      "source": "",
      "execution_count": null,
      "outputs": []
    },
    {
      "metadata": {
        "_uuid": "a3487e3adec1c61b3ea2e9b9b88a2391afd28f88",
        "collapsed": true,
        "_cell_guid": "880393d7-ad12-4f45-9f80-6dfac3d84c3e",
        "trusted": false
      },
      "cell_type": "code",
      "source": "",
      "execution_count": null,
      "outputs": []
    },
    {
      "metadata": {
        "_uuid": "4ff3b2ec57e4e7f4ab39c2e5c3c2b9f5943d5468",
        "collapsed": true,
        "_cell_guid": "afa5abf5-cf47-4b14-b189-4013b53d51de",
        "trusted": false
      },
      "cell_type": "code",
      "source": "",
      "execution_count": null,
      "outputs": []
    }
  ],
  "metadata": {
    "kernelspec": {
      "display_name": "Python 3",
      "language": "python",
      "name": "python3"
    },
    "language_info": {
      "name": "python",
      "version": "3.6.5",
      "mimetype": "text/x-python",
      "codemirror_mode": {
        "name": "ipython",
        "version": 3
      },
      "pygments_lexer": "ipython3",
      "nbconvert_exporter": "python",
      "file_extension": ".py"
    }
  },
  "nbformat": 4,
  "nbformat_minor": 1
}