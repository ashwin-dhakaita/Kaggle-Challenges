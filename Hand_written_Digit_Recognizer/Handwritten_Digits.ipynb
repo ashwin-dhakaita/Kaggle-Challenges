{
 "cells": [
  {
   "cell_type": "code",
   "execution_count": 11,
   "metadata": {
    "collapsed": true
   },
   "outputs": [],
   "source": [
    "#import the required libraries\n",
    "import matplotlib.pyplot as plt\n",
    "import pandas as pd\n",
    "import numpy as np\n",
    "import seaborn as sns\n",
    "from sklearn import datasets\n",
    "from sklearn.neural_network import MLPClassifier\n",
    "from sklearn.model_selection import train_test_split\n",
    "from sklearn.svm import SVC\n",
    "from sklearn.tree import DecisionTreeClassifier\n",
    "from sklearn.metrics import accuracy_score\n",
    "from sklearn.naive_bayes import MultinomialNB\n",
    "% matplotlib inline"
   ]
  },
  {
   "cell_type": "code",
   "execution_count": 12,
   "metadata": {
    "collapsed": true
   },
   "outputs": [],
   "source": [
    "#load the dataset from sklearn.datasets\n",
    "digits = datasets.load_digits()\n",
    "X = digits['images']\n",
    "y = digits['target']"
   ]
  },
  {
   "cell_type": "code",
   "execution_count": 13,
   "metadata": {
    "collapsed": true
   },
   "outputs": [],
   "source": [
    "#empty list to hold predicted values\n",
    "pred = []"
   ]
  },
  {
   "cell_type": "code",
   "execution_count": 14,
   "metadata": {
    "collapsed": true
   },
   "outputs": [],
   "source": [
    "#create a train_test split\n",
    "trainX , testX , trainy , testy = train_test_split(X ,y, test_size = .33)"
   ]
  },
  {
   "cell_type": "code",
   "execution_count": 15,
   "metadata": {
    "collapsed": true
   },
   "outputs": [],
   "source": [
    "#fit the multilayered perceptron classifier to the training set\n",
    "clf = MLPClassifier(solver='lbfgs',alpha=1.0,hidden_layer_sizes=(25))\n",
    "clf.fit(trainX.reshape((1203,-1)),trainy)\n",
    "pred.append(clf.predict(testX.reshape((594,-1))))"
   ]
  },
  {
   "cell_type": "code",
   "execution_count": 16,
   "metadata": {
    "collapsed": true
   },
   "outputs": [],
   "source": [
    "#fit the decisiontree classifier to the training set\n",
    "clf = DecisionTreeClassifier()\n",
    "clf.fit(trainX.reshape((1203,-1)),trainy)\n",
    "pred.append(clf.predict(testX.reshape((594,-1))))"
   ]
  },
  {
   "cell_type": "code",
   "execution_count": 17,
   "metadata": {
    "collapsed": true
   },
   "outputs": [],
   "source": [
    "#fit naive_bayes classifier to the training set\n",
    "clf = MultinomialNB()\n",
    "clf.fit(trainX.reshape((1203,-1)),trainy)\n",
    "pred.append(clf.predict(testX.reshape((594,-1))))"
   ]
  },
  {
   "cell_type": "code",
   "execution_count": 18,
   "metadata": {
    "collapsed": true
   },
   "outputs": [],
   "source": [
    "#fit the support-vector classifier to the training set\n",
    "clf = SVC()\n",
    "clf.fit(trainX.reshape((1203,-1)),trainy)\n",
    "pred.append(clf.predict(testX.reshape((594,-1))))"
   ]
  },
  {
   "cell_type": "code",
   "execution_count": 19,
   "metadata": {
    "collapsed": true
   },
   "outputs": [],
   "source": [
    "#use list comprehension to derive accuracy scores of various classifiers\n",
    "pred = [accuracy_score(c,testy) for c in pred]\n",
    "df = pd.DataFrame({'Classifiers':['MultiLayeredPerceptrons','DecisionTreeClassifier','Multinomial_Naive_Bayes','SupportVectorClassifier'],'Accuracy_Score':pred})"
   ]
  },
  {
   "cell_type": "code",
   "execution_count": 20,
   "metadata": {},
   "outputs": [
    {
     "data": {
      "text/plain": [
       "<matplotlib.axes._subplots.AxesSubplot at 0xd4735b0>"
      ]
     },
     "execution_count": 20,
     "metadata": {},
     "output_type": "execute_result"
    },
    {
     "data": {
      "image/png": "[encoded data removed]",
      "text/plain": [
       "<matplotlib.figure.Figure at 0xd552ff0>"
      ]
     },
     "metadata": {},
     "output_type": "display_data"
    }
   ],
   "source": [
    "#create a final barplot\n",
    "sns.barplot(x=df['Accuracy_Score'],y=df['Classifiers'],data=df)"
   ]
  },
  {
   "cell_type": "code",
   "execution_count": null,
   "metadata": {
    "collapsed": true
   },
   "outputs": [],
   "source": []
  }
 ],
 "metadata": {
  "kernelspec": {
   "display_name": "Python 3",
   "language": "python",
   "name": "python3"
  },
  "language_info": {
   "codemirror_mode": {
    "name": "ipython",
    "version": 3
   },
   "file_extension": ".py",
   "mimetype": "text/x-python",
   "name": "python",
   "nbconvert_exporter": "python",
   "pygments_lexer": "ipython3",
   "version": "3.6.1"
  }
 },
 "nbformat": 4,
 "nbformat_minor": 2
}
